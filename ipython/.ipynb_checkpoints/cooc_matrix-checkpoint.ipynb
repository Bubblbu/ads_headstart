{
 "cells": [
  {
   "cell_type": "code",
   "execution_count": 2,
   "metadata": {
    "collapsed": true
   },
   "outputs": [],
   "source": [
    "import numpy as np\n",
    "import pandas as pd\n",
    "from IPython.display import display, clear_output"
   ]
  },
  {
   "cell_type": "code",
   "execution_count": 49,
   "metadata": {
    "collapsed": false
   },
   "outputs": [],
   "source": [
    "df = pd.read_csv(\"../output/new_test.csv\")\n",
    "df.reader = df.reader.astype(str)\n",
    "df.sort(\"readers\", ascending=False, inplace=True)"
   ]
  },
  {
   "cell_type": "code",
   "execution_count": 87,
   "metadata": {
    "collapsed": false
   },
   "outputs": [],
   "source": [
    "readers = []\n",
    "count = 0\n",
    "for idx, row in df.iterrows():\n",
    "    if count == 50:\n",
    "        break\n",
    "    readers.append(row.reader[1:-1].split(\";\"))\n",
    "    count += 1"
   ]
  },
  {
   "cell_type": "code",
   "execution_count": 92,
   "metadata": {
    "collapsed": false
   },
   "outputs": [],
   "source": [
    "df[0:50].to_csv(\"truncated_matrix.csv\")"
   ]
  },
  {
   "cell_type": "code",
   "execution_count": 88,
   "metadata": {
    "collapsed": false
   },
   "outputs": [
    {
     "data": {
      "text/plain": [
       "100"
      ]
     },
     "execution_count": 88,
     "metadata": {},
     "output_type": "execute_result"
    }
   ],
   "source": [
    "len(readers)"
   ]
  },
  {
   "cell_type": "code",
   "execution_count": 89,
   "metadata": {
    "collapsed": false
   },
   "outputs": [
    {
     "name": "stdout",
     "output_type": "stream",
     "text": [
      "100\n"
     ]
    }
   ],
   "source": [
    "cooc = np.zeros((len(readers)+1, len(readers)+1), dtype=int)\n",
    "output = []\n",
    "\n",
    "sum = 0\n",
    "for idx1, list1 in enumerate(readers, start=1):\n",
    "    clear_output(wait=True)\n",
    "    print(idx1)\n",
    "    sum += len(list1)\n",
    "    for idx2, list2 in enumerate(readers, start=1):\n",
    "        if idx2 > idx1:\n",
    "            co_read = len(set(list1) & set(list2))\n",
    "            \n",
    "            if co_read != 0:\n",
    "                output.append([idx1, idx2, co_read])\n",
    "                output.append([idx2, idx1, co_read])\n",
    "            \n",
    "            cooc[idx2, idx1] = co_read\n",
    "            cooc[idx1, idx2] = co_read\n",
    "        elif idx1 == idx2:\n",
    "            cooc[idx1, idx1] = 0\n",
    "    \n",
    "for i in range(1,len(readers)+1):\n",
    "    cooc[0, i] = i\n",
    "    cooc[i, 0] = i"
   ]
  },
  {
   "cell_type": "code",
   "execution_count": 90,
   "metadata": {
    "collapsed": false
   },
   "outputs": [
    {
     "data": {
      "text/plain": [
       "6330"
      ]
     },
     "execution_count": 90,
     "metadata": {},
     "output_type": "execute_result"
    }
   ],
   "source": [
    "len(output)"
   ]
  },
  {
   "cell_type": "code",
   "execution_count": 81,
   "metadata": {
    "collapsed": false
   },
   "outputs": [],
   "source": [
    "output = np.array(output)\n",
    "np.savetxt(\"cooc.csv\", output, delimiter=\",\")"
   ]
  },
  {
   "cell_type": "code",
   "execution_count": 72,
   "metadata": {
    "collapsed": false
   },
   "outputs": [],
   "source": [
    "np.savetxt(\"cooc.csv\", cooc, delimiter=\",\")"
   ]
  }
 ],
 "metadata": {
  "kernelspec": {
   "display_name": "Python 2",
   "language": "python",
   "name": "python2"
  },
  "language_info": {
   "codemirror_mode": {
    "name": "ipython",
    "version": 2
   },
   "file_extension": ".py",
   "mimetype": "text/x-python",
   "name": "python",
   "nbconvert_exporter": "python",
   "pygments_lexer": "ipython2",
   "version": "2.7.9"
  }
 },
 "nbformat": 4,
 "nbformat_minor": 0
}
